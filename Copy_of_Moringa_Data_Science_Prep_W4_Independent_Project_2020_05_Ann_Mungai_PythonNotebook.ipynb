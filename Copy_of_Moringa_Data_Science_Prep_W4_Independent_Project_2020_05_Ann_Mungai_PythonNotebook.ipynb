{
  "nbformat": 4,
  "nbformat_minor": 0,
  "metadata": {
    "colab": {
      "name": "Copy of Moringa_Data_Science_Prep_W4_Independent_Project_2020_05_Ann_Mungai_PythonNotebook.ipynb",
      "provenance": [],
      "toc_visible": true,
      "authorship_tag": "ABX9TyOy4FCy3JjeUs0boSWujWFh",
      "include_colab_link": true
    },
    "kernelspec": {
      "name": "python3",
      "display_name": "Python 3"
    }
  },
  "cells": [
    {
      "cell_type": "markdown",
      "metadata": {
        "id": "view-in-github",
        "colab_type": "text"
      },
      "source": [
        "<a href=\"https://colab.research.google.com/github/Ann-wq/Data-science-project-2/blob/master/Copy_of_Moringa_Data_Science_Prep_W4_Independent_Project_2020_05_Ann_Mungai_PythonNotebook.ipynb\" target=\"_parent\"><img src=\"https://colab.research.google.com/assets/colab-badge.svg\" alt=\"Open In Colab\"/></a>"
      ]
    },
    {
      "cell_type": "markdown",
      "metadata": {
        "id": "M1Do2XUrp0JA",
        "colab_type": "text"
      },
      "source": [
        "# Loading of the datasets"
      ]
    },
    {
      "cell_type": "code",
      "metadata": {
        "id": "kcwQozz2p2Kd",
        "colab_type": "code",
        "colab": {}
      },
      "source": [
        "#importing the numpy library\n",
        "import numpy as np\n",
        "\n",
        "#importing the pandas library\n",
        "import pandas as pd"
      ],
      "execution_count": 0,
      "outputs": []
    },
    {
      "cell_type": "code",
      "metadata": {
        "id": "MTDjK8bpCzDG",
        "colab_type": "code",
        "colab": {}
      },
      "source": [
        "# store the url for the dataset usinf=g the variable url\n",
        "url = 'http://bit.ly/autolib_dataset'\n",
        "\n",
        "# We will read the dataset from above url and store the dataframe in the variable df\n",
        "df = pd.read_csv(url, encoding = \"latin1\")\n",
        "df.head(5)"
      ],
      "execution_count": 0,
      "outputs": []
    },
    {
      "cell_type": "markdown",
      "metadata": {
        "id": "iNypDgFKqjLZ",
        "colab_type": "text"
      },
      "source": [
        "#Performing Data Cleaning"
      ]
    },
    {
      "cell_type": "code",
      "metadata": {
        "id": "m1-vxU73c5_n",
        "colab_type": "code",
        "colab": {}
      },
      "source": [
        "#check any duplicates in the dataframe in the autolib dataset\n",
        "df.duplicated()"
      ],
      "execution_count": 0,
      "outputs": []
    },
    {
      "cell_type": "code",
      "metadata": {
        "id": "4fbRFr8HdIoz",
        "colab_type": "code",
        "colab": {}
      },
      "source": [
        "#shows the duplicates that are there in the df \n",
        "df.drop_duplicates()"
      ],
      "execution_count": 0,
      "outputs": []
    },
    {
      "cell_type": "code",
      "metadata": {
        "id": "EdK_uJfCdI02",
        "colab_type": "code",
        "colab": {}
      },
      "source": [
        "#Checking if there is any missing data in the autolib dataset\n",
        "df.isnull()"
      ],
      "execution_count": 0,
      "outputs": []
    },
    {
      "cell_type": "code",
      "metadata": {
        "id": "0dsAPYIwrqnm",
        "colab_type": "code",
        "colab": {}
      },
      "source": [
        "#dropping off the missing data\n",
        "df_no_missing = df.dropna()\n",
        "df_no_missing"
      ],
      "execution_count": 0,
      "outputs": []
    },
    {
      "cell_type": "code",
      "metadata": {
        "id": "K8B77_vqdI6q",
        "colab_type": "code",
        "colab": {}
      },
      "source": [
        "df_cleaned = df.dropna(how='all')\n",
        "df_cleaned"
      ],
      "execution_count": 0,
      "outputs": []
    },
    {
      "cell_type": "code",
      "metadata": {
        "id": "d7Do-_v2dI8j",
        "colab_type": "code",
        "colab": {}
      },
      "source": [
        "# Dropping the column if they only contain missing values in the autolib dataset\n",
        "df.dropna(axis=1, how='all')"
      ],
      "execution_count": 0,
      "outputs": []
    },
    {
      "cell_type": "code",
      "metadata": {
        "id": "ebpmfvY7evu3",
        "colab_type": "code",
        "colab": {}
      },
      "source": [
        "# Dropping the column if they only contain missing values in the autolib dataset2\n",
        "df.dropna(axis=1, how='all')"
      ],
      "execution_count": 0,
      "outputs": []
    },
    {
      "cell_type": "code",
      "metadata": {
        "id": "6YTPnaQWdJCH",
        "colab_type": "code",
        "colab": {}
      },
      "source": [
        "# Then count the number of non - missing values in the df dataframe\n",
        "#\n",
        "df.count()"
      ],
      "execution_count": 0,
      "outputs": []
    },
    {
      "cell_type": "code",
      "metadata": {
        "id": "ZWbFljscYb0Y",
        "colab_type": "code",
        "colab": {}
      },
      "source": [
        "df.columns = map(str.lower, df.columns)\n",
        "df.columns"
      ],
      "execution_count": 0,
      "outputs": []
    },
    {
      "cell_type": "markdown",
      "metadata": {
        "id": "F51yvjM4tt1h",
        "colab_type": "text"
      },
      "source": [
        "# Merging of the columns and performing data analysis"
      ]
    },
    {
      "cell_type": "code",
      "metadata": {
        "id": "yFUYSkTndJGH",
        "colab_type": "code",
        "outputId": "fbbafc0e-e64d-440c-c5d9-f9e2edbee1e7",
        "colab": {
          "base_uri": "https://localhost:8080/",
          "height": 68
        }
      },
      "source": [
        "#Identify the most popular hour of the day for picking up a Bluecar in the city of Paris over the month of April 2018.\n",
        "df.loc[df[\"City\"] == \"Paris\", [\"Bluecar counter\", \"hour\"]].max()"
      ],
      "execution_count": 0,
      "outputs": [
        {
          "output_type": "execute_result",
          "data": {
            "text/plain": [
              "Bluecar counter     7\n",
              "hour               23\n",
              "dtype: int64"
            ]
          },
          "metadata": {
            "tags": []
          },
          "execution_count": 4
        }
      ]
    },
    {
      "cell_type": "code",
      "metadata": {
        "id": "06H1ylyBXG2X",
        "colab_type": "code",
        "colab": {}
      },
      "source": [
        "#combine the utilib and utilib1.4 counter to one column called counter\n",
        "df['counter'] = df['Utilib counter'] + df['Utilib 1.4 counter']\n",
        "print(df.head(10))"
      ],
      "execution_count": 0,
      "outputs": []
    },
    {
      "cell_type": "code",
      "metadata": {
        "id": "C2reilq6dJA6",
        "colab_type": "code",
        "colab": {}
      },
      "source": [
        "#Determine the number of cars that were picked by subtracting the number of cars available and the counter\n",
        "df['car_picked'] = df['Cars'] - df['counter'] \n",
        "print(df.car_picked.head(10) )"
      ],
      "execution_count": 0,
      "outputs": []
    },
    {
      "cell_type": "code",
      "metadata": {
        "id": "gluL6UHxuNpe",
        "colab_type": "code",
        "colab": {}
      },
      "source": [
        "#merging the kind and ID column\n",
        "df['kind_id'] = df['Kind'] + df['ID']\n",
        "print(df.kind_id.head(10))"
      ],
      "execution_count": 0,
      "outputs": []
    },
    {
      "cell_type": "code",
      "metadata": {
        "id": "aIj6LH1muqsH",
        "colab_type": "code",
        "outputId": "c0149fc2-d6d1-4780-b178-648607023e07",
        "colab": {
          "base_uri": "https://localhost:8080/",
          "height": 34
        }
      },
      "source": [
        "#getting the station that is most popular\n",
        "df['kind_id'].max()"
      ],
      "execution_count": 0,
      "outputs": [
        {
          "output_type": "execute_result",
          "data": {
            "text/plain": [
              "'STATIONyerres-raymondpoincare-200'"
            ]
          },
          "metadata": {
            "tags": []
          },
          "execution_count": 15
        }
      ]
    },
    {
      "cell_type": "code",
      "metadata": {
        "id": "IBedkbKrw4O0",
        "colab_type": "code",
        "outputId": "bd8583d2-a7f6-488a-f645-53a0085bb1bc",
        "colab": {
          "base_uri": "https://localhost:8080/",
          "height": 68
        }
      },
      "source": [
        "#the most popular picking hour at the station\n",
        "df.loc[df[\"kind_id\"] == \"STATIONyerres-raymondpoincare-200\", [\"car_picked\", \"hour\"]].max()"
      ],
      "execution_count": 0,
      "outputs": [
        {
          "output_type": "execute_result",
          "data": {
            "text/plain": [
              "car_picked     2\n",
              "hour          15\n",
              "dtype: int64"
            ]
          },
          "metadata": {
            "tags": []
          },
          "execution_count": 16
        }
      ]
    },
    {
      "cell_type": "code",
      "metadata": {
        "id": "FDf6Otcq1Hje",
        "colab_type": "code",
        "outputId": "b77b2296-2986-49f3-d96e-c70dc31c7106",
        "colab": {
          "base_uri": "https://localhost:8080/",
          "height": 51
        }
      },
      "source": [
        "#to get the most popular postal code for picking up bluecars\n",
        "df.loc[df[\"Bluecar counter\"], [\"Postal code\"]].max()"
      ],
      "execution_count": 0,
      "outputs": [
        {
          "output_type": "execute_result",
          "data": {
            "text/plain": [
              "Postal code    93350\n",
              "dtype: int64"
            ]
          },
          "metadata": {
            "tags": []
          },
          "execution_count": 74
        }
      ]
    },
    {
      "cell_type": "code",
      "metadata": {
        "id": "bFLMFCEkw4oq",
        "colab_type": "code",
        "outputId": "31015c3d-2334-4a45-9a2c-63263ac613aa",
        "colab": {
          "base_uri": "https://localhost:8080/",
          "height": 34
        }
      },
      "source": [
        "#to check if the most popular station belongs to that postal code\n",
        "df.loc[df[\"kind_id\"] == \"STATIONyerres-raymondpoincare-200\", \"Postal code\"].max()"
      ],
      "execution_count": 0,
      "outputs": [
        {
          "output_type": "execute_result",
          "data": {
            "text/plain": [
              "91330"
            ]
          },
          "metadata": {
            "tags": []
          },
          "execution_count": 76
        }
      ]
    },
    {
      "cell_type": "code",
      "metadata": {
        "id": "3HWndfFCw4yN",
        "colab_type": "code",
        "outputId": "6f11ef21-23a0-4fe1-be2f-37909ed89aa9",
        "colab": {
          "base_uri": "https://localhost:8080/",
          "height": 51
        }
      },
      "source": [
        "# to check the difference if you consider Utilib and Utilib 1.4 instead of Blue cars\n",
        "df.loc[df[\"counter\"], [\"Postal code\"]].max()\n",
        "#there is no difference in the results "
      ],
      "execution_count": 0,
      "outputs": [
        {
          "output_type": "execute_result",
          "data": {
            "text/plain": [
              "Postal code    93350\n",
              "dtype: int64"
            ]
          },
          "metadata": {
            "tags": []
          },
          "execution_count": 77
        }
      ]
    },
    {
      "cell_type": "code",
      "metadata": {
        "id": "to_idql8w47v",
        "colab_type": "code",
        "colab": {}
      },
      "source": [
        ""
      ],
      "execution_count": 0,
      "outputs": []
    }
  ]
}